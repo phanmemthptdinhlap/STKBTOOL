{
 "cells": [
  {
   "cell_type": "code",
   "execution_count": null,
   "id": "360dfc8d",
   "metadata": {},
   "outputs": [],
   "source": [
    "import pandas as pd\n",
    "import numpy as np\n",
    "import os"
   ]
  },
  {
   "cell_type": "code",
   "execution_count": null,
   "id": "9bc8a996",
   "metadata": {},
   "outputs": [
    {
     "name": "stdout",
     "output_type": "stream",
     "text": [
      "['T10_HK1_V2.xls', 'T2_HK1_V2.xls', 'T23_V02_HK2.xls', 'T29_V01_HK2.xls', 'T31_V02_HK2.xls', 'T14_HK1_V2.xls', 'T33_V01_HK2.xls', 'T28_V01_HK2.xls', 'T24_V01_HK2.xls', 'T30_V01_HK2.xls', 'T2_DỔI THỨ 5 VÀ THỨ 6.xls', 'T27_V01_HK2.xls', 'T19_V01_HK2.xls', 'T20_V01_HK2.xls', 'T1_HK1_Sửa tên lớp.xls', 'T31_V01_HK2.xls', 'T26_V01_HK2.xls', 'T8_HK1_V1.xls', 'T12_HK1.xls', 'T23_V04_HK2.xls', 'T19_V02_HK2.xls', 'T30_THỨ 2.xls', 'T31_V05_HK2.xls', 'T7_HK1.xls', 'T2_HK1.xls', 'T1_HK1_Thêm Tiếng Trung.xls', 'T10_HK1_V5.xls', 'T24_V03_HK2.xls', 'T9_HK1_V2.xls', 'T7_HK1_V2.xls', 'T5_KH1.xls', 'T10_HK1.xls', 'T4_KH1_V4.xls', 'T18_V02.xls', 'T5_KH1_V1.xls', 'T26_V02_HK2.xls', 'T24_V04_HK2.xls', 'T32_V01_HK2.xls', 'T23_V05_HK2.xls', 'T11_HK1_V2.xls', 'T16_V2.xls', 'T3_HK1.xls', 'T26_V03_HK2.xls', 'T10_HK1_V4.xls', 'T24_V05_HK2.xls', 'T9_HK1.xls', 'T3_HK1 - KDCL_1.xls', 'T1_HK1.xls', 'T6_HK1_V2.xls', 'T11_HK1.xls', 'T25_V02_HK2.xls', 'T12_HK1 _v2.xls', 'T3_HK1_THÊM GDĐP.xls', 'T21_V01_HK2.xls', 'T31_V03_HK2.xls', 'T24_V02_HK2.xls', 'T29_V02_HK2.xls', 'T15_HK1_v3.xls', 'T31_V04_HK2.xls', 'T16.xls', 'T11_HK1_V3.xls', 'T14_HK1.xls', 'T28_V02_HK2.xls', 'T21_V02_HK2.xls', 'T6_HK1.xls', 'T22_V01_HK2.xls', 'T10_HK1_V3.xls', 'T15_HK1.xls', 'T10_HK1_V6.xls', 'T27_V02_HK2.xls', 'T32_V02_HK2.xls', 'T17_V0.1.xls', 'T6_HK1-MAYTINH.xls', 'T4_KH1_V2.xls', 'T20_V02_HK2.xls', 'T4_HK1_V3.xls', 'T15_HK1_v2.xls', 'T25_V01_HK2.xls', 'T4_KH1.xls', 'T33_V02_HK2.xls', 'T13_HK1_v2.xls', 'T29_V03_HK2.xls', 'T3_HK1_V2.xls', 'T18_V0.1.xls']\n"
     ]
    }
   ],
   "source": [
    "path=\"./data/\"\n",
    "list_files = os.listdir(path)\n",
    "list_files = [f for f in list_files if f.endswith('.xls')]\n",
    "print(list_files)"
   ]
  },
  {
   "cell_type": "code",
   "execution_count": null,
   "id": "d6e77c8c",
   "metadata": {},
   "outputs": [
    {
     "data": {
      "text/plain": [
       "' import RData\\n# Đọc file đầu tiên trong danh sách\\nfile_to_read = list_files[0]\\nprint(f\"Đang đọc file: {file_to_read}\")\\n# Đọc sheet \\'TKBLop2b\\' từ C8 đến U68\\nfile_path = os.path.join(path, file_to_read)\\nrtkb= RData.RTKB()\\ndata = rtkb.read(file_path)\\nprint(data)\\nprint(rtkb.get_gvs())\\nprint(rtkb.get_mons())\\nprint(rtkb.get_lops()) '"
      ]
     },
     "execution_count": 7,
     "metadata": {},
     "output_type": "execute_result"
    }
   ],
   "source": [
    "\"\"\" import RData\n",
    "# Đọc file đầu tiên trong danh sách\n",
    "file_to_read = list_files[0]\n",
    "print(f\"Đang đọc file: {file_to_read}\")\n",
    "# Đọc sheet 'TKBLop2b' từ C8 đến U68\n",
    "file_path = os.path.join(path, file_to_read)\n",
    "rtkb= RData.RTKB()\n",
    "data = rtkb.read(file_path)\n",
    "print(data)\n",
    "print(rtkb.get_gvs())\n",
    "print(rtkb.get_mons())\n",
    "print(rtkb.get_lops()) \"\"\""
   ]
  },
  {
   "cell_type": "code",
   "execution_count": null,
   "id": "71d86008",
   "metadata": {},
   "outputs": [
    {
     "name": "stdout",
     "output_type": "stream",
     "text": [
      "Đã đọc [' - ' 'DIA - Khoa' 'GDĐP - Hướng' 'GDĐP - Khoa' 'HOA - L.Hiền' 'LY - Ấn'\n",
      " 'NN - Nhàn' 'SH - L.Hiền' 'SINH - N.Hồng' 'SU - Mến' 'TD/GDTC - Quang'\n",
      " 'TOAN - Hướng' 'TrNg - Xuân' 'VAN - Lan'] từ lớp 10A1\n",
      "Đã đọc [' - ' 'DIA - Khoa' 'GDĐP - Khoa' 'GDĐP - Tr.Phương' 'HOA - L.Hiền'\n",
      " 'NN - Mai' 'SH - Tr.Phương' 'SINH - N.Hồng' 'SU - Gái'\n",
      " 'TD/GDTC - Tr.Thắng' 'TIN - Kiên' 'TOAN - Tr.Phương' 'TrNg - Giang'\n",
      " 'VAN - Trang'] từ lớp 10A2\n",
      "Đã đọc [' - ' 'CN - DuyênB' 'DIA - Nga' 'GDĐP - DuyênB' 'GDĐP - Nga' 'HOA - Hoa'\n",
      " 'NN - H.Hồng' 'SH - Hoa' 'SINH - M.Phương' 'SU - L.Phương'\n",
      " 'TD/GDTC - Tr.Thắng' 'TOAN - Tích' 'TrNg - Hoa' 'VAN - Hằng'] từ lớp 10C1\n",
      "Đã đọc [' - ' 'CN - Nhung' 'DIA - Khoa' 'GDĐP - Khoa' 'GDĐP - Tr.Phương'\n",
      " 'HOA - Hoa' 'NN - Thảo' 'SH - Hướng' 'SINH - N.Hồng' 'SU - Gái'\n",
      " 'TD/GDTC - Tr.Thắng' 'TOAN - Hướng' 'TrNg - Ng.Phương' 'VAN - Hằng'] từ lớp 10C2\n",
      "Đã đọc [' - ' 'CN - Nhung' 'DIA - Nga' 'GDĐP - Khoa' 'GDĐP - Tích' 'HOA - Hoa'\n",
      " 'NN - Mai' 'SH - Chúc' 'SINH - N.Hồng' 'SU - Mến' 'TD/GDTC - Tr.Thắng'\n",
      " 'TOAN - Tích' 'TrNg - Chúc' 'VAN - Lan'] từ lớp 10C3\n",
      "Đã đọc [' - ' 'CN - DuyênB' 'DIA - Nga' 'GDKTPL - Khuyên' 'GDĐP - Hướng'\n",
      " 'GDĐP - Nga' 'NN - Nhàn' 'SH - M.Phương' 'SINH - M.Phương'\n",
      " 'SU - L.Phương' 'TD/GDTC - Thiềm' 'TOAN - Giang' 'TrNg - M.Phương'\n",
      " 'VAN - Trang'] từ lớp 10C4\n",
      "Đã đọc [' - ' 'CN - DuyênB' 'GDKTPL - Hiếu' 'GDĐP - Khoa' 'GDĐP - Tr.Phương'\n",
      " 'LY - Chúc' 'NN - H.Hồng' 'SH - Ng.Phương' 'SU - Gái' 'TD/GDTC - Thiềm'\n",
      " 'TIN - Huyền' 'TOAN - Tr.Phương' 'TrNg - Ng.Phương' 'VAN - Lan'] từ lớp 10C5\n",
      "Đã đọc [' - ' 'GDĐP - M.Phương' 'GDĐP - Mến' 'HOA - Thoa' 'LY - Ng.Phương'\n",
      " 'NN - H.Hồng' 'QPAN - Quang' 'SH - Ái' 'SINH - Hiển' 'SU - Mến'\n",
      " 'TD/GDTC - Tr.Thắng' 'TIN - Kiên' 'TOAN - DuyênA' 'TrNg - Ái'\n",
      " 'VAN - B.Hiền'] từ lớp 11A1\n",
      "Đã đọc [' - ' 'CN - DuyênB' 'DIA - Khoa' 'GDKTPL - Hiếu' 'GDĐP - Gái'\n",
      " 'GDĐP - M.Phương' 'NN - Đức' 'QPAN - Châm' 'SH - DuyênB' 'SU - L.Phương'\n",
      " 'TD/GDTC - Thiềm' 'TIN - Huyền' 'TOAN - Tr.Phương' 'TrNg - Chúc'\n",
      " 'VAN - Lan'] từ lớp 11A2\n",
      "Đã đọc [' - ' 'CN - Ái' 'DIA - Khoa' 'GDKTPL - Hiếu' 'GDĐP - L.Phương'\n",
      " 'GDĐP - Nhung' 'NN - Đức' 'SH - Thiềm' 'SINH - Hiển' 'SU - L.Phương'\n",
      " 'TD/GDTC - Thiềm' 'TOAN - Khánh' 'TrNg - Khánh' 'VAN - Trang'] từ lớp 11C1\n",
      "Đã đọc [' - ' 'CN - Nhung' 'DIA - Nga' 'GDKTPL - Hiếu' 'GDĐP - Gái'\n",
      " 'GDĐP - M.Phương' 'NN - Đức' 'SH - Tr.Thắng' 'SINH - Hiển' 'SU - Gái'\n",
      " 'TD/GDTC - Tr.Thắng' 'TOAN - DuyênA' 'TrNg - Đức' 'VAN - B.Hiền'] từ lớp 11C2\n",
      "Đã đọc [' - ' 'CN - Ái' 'DIA - Nga' 'GDKTPL - Hiếu' 'GDĐP - Gái'\n",
      " 'GDĐP - Tr.Phương' 'NN - Đức' 'SH - Tích' 'SINH - Hiển' 'SU - Gái'\n",
      " 'TD/GDTC - L.Thắng' 'TOAN - Tích' 'TrNg - Huyền' 'VAN - B.Hiền'] từ lớp 11C3\n",
      "Đã đọc [' - ' 'CN - Ái' 'DIA - Nga' 'GDKTPL - Hiếu' 'GDĐP - Mến' 'GDĐP - Quang'\n",
      " 'NN - H.Hồng' 'QPAN - Châm' 'SH - Tuyết' 'SINH - M.Phương' 'SU - Mến'\n",
      " 'TD/GDTC - L.Thắng' 'TOAN - Hướng' 'TrNg - Chúc' 'VAN - B.Hiền'] từ lớp 11C4\n",
      "Đã đọc [' - ' 'GDĐP - Nhàn' 'HOA - Thoa' 'LY - Ấn' 'NN - Mai' 'SH - Thoa'\n",
      " 'SINH - N.Hồng' 'SU - Mến' 'TD/GDTC - Quang' 'TIN - Kiên' 'TOAN - Tiến'\n",
      " 'TrNg - Thoa' 'VAN - Hằng'] từ lớp 12A1\n",
      "Đã đọc [' - ' 'GDĐP - H.Hồng' 'HOA - Thoa' 'LY - Ng.Phương' 'NN - Đức'\n",
      " 'SH - Hiển' 'SINH - Hiển' 'SU - L.Phương' 'TD/GDTC - L.Thắng'\n",
      " 'TIN - Kiên' 'TOAN - DuyênA' 'TrNg - DuyênA' 'VAN - Lan'] từ lớp 12A2\n",
      "Đã đọc [' - ' 'DIA - Khoa' 'GDKTPL - Hiếu' 'GDĐP - Nhàn' 'NN - Nhàn' 'SH - Nhàn'\n",
      " 'SINH - Hiển' 'SU - L.Phương' 'TD/GDTC - L.Thắng' 'TIN - Kiên'\n",
      " 'TOAN - Giang' 'TrNg - L.Thắng' 'VAN - Trang'] từ lớp 12C1\n",
      "Đã đọc [' - ' 'DIA - Nga' 'GDKTPL - Hiếu' 'GDĐP - H.Hồng' 'NN - H.Hồng'\n",
      " 'SH - Huyền' 'SINH - N.Hồng' 'SU - Mến' 'TD/GDTC - Thiềm' 'TIN - Huyền'\n",
      " 'TOAN - Giang' 'TrNg - Tích' 'VAN - Hằng'] từ lớp 12C2\n",
      "Đã đọc [' - ' 'CN - Ái' 'DIA - Khoa' 'GDKTPL - Khuyên' 'GDĐP - Kiên' 'NN - Nhàn'\n",
      " 'SH - Quang' 'SU - Mến' 'TD/GDTC - Quang' 'TIN - Kiên' 'TOAN - Khánh'\n",
      " 'TrNg - Nhung' 'VAN - B.Hiền'] từ lớp 12C3\n",
      "Đã đọc [' - ' 'CN - Nhung' 'DIA - Khoa' 'GDKTPL - Hiếu' 'GDĐP - Mai' 'NN - Mai'\n",
      " 'SH - Mai' 'SU - Gái' 'TD/GDTC - Thiềm' 'TIN - Huyền' 'TOAN - Khánh'\n",
      " 'TrNg - Hoa' 'VAN - Trang'] từ lớp 12C4\n",
      "[[[1 1]\n",
      "  [1 1]\n",
      "  [2 2]\n",
      "  ...\n",
      "  [0 0]\n",
      "  [0 0]\n",
      "  [0 0]]\n",
      "\n",
      " [[7 6]\n",
      "  [2 11]\n",
      "  [6 12]\n",
      "  ...\n",
      "  [0 0]\n",
      "  [0 0]\n",
      "  [0 0]]\n",
      "\n",
      " [[6 18]\n",
      "  [2 19]\n",
      "  [2 19]\n",
      "  ...\n",
      "  [0 0]\n",
      "  [0 0]\n",
      "  [0 0]]\n",
      "\n",
      " ...\n",
      "\n",
      " [[4 25]\n",
      "  [7 6]\n",
      "  [13 33]\n",
      "  ...\n",
      "  [0 0]\n",
      "  [0 0]\n",
      "  [0 0]]\n",
      "\n",
      " [[10 26]\n",
      "  [10 26]\n",
      "  [10 26]\n",
      "  ...\n",
      "  [2 2]\n",
      "  [0 0]\n",
      "  [0 0]]\n",
      "\n",
      " [[10 21]\n",
      "  [10 21]\n",
      "  [10 21]\n",
      "  ...\n",
      "  [0 0]\n",
      "  [0 0]\n",
      "  [0 0]]]\n"
     ]
    }
   ],
   "source": [
    "import libs.RData as RData\n",
    "rtkb = RData.RTKB()\n",
    "file_path = os.path.join(path, list_files[0])\n",
    "data = rtkb.read(file_path)\n",
    "print(data)\n",
    "    "
   ]
  },
  {
   "cell_type": "code",
   "execution_count": null,
   "id": "1b5c7ba9",
   "metadata": {},
   "outputs": [
    {
     "name": "stdout",
     "output_type": "stream",
     "text": [
      "[1 1]\n",
      "========================================\n"
     ]
    },
    {
     "ename": "IndexError",
     "evalue": "too many indices for array: array is 1-dimensional, but 2 were indexed",
     "output_type": "error",
     "traceback": [
      "\u001b[31m---------------------------------------------------------------------------\u001b[39m",
      "\u001b[31mIndexError\u001b[39m                                Traceback (most recent call last)",
      "\u001b[36mCell\u001b[39m\u001b[36m \u001b[39m\u001b[32mIn[9]\u001b[39m\u001b[32m, line 4\u001b[39m\n\u001b[32m      2\u001b[39m \u001b[38;5;28mprint\u001b[39m(da)\n\u001b[32m      3\u001b[39m \u001b[38;5;28mprint\u001b[39m(\u001b[33m\"\u001b[39m\u001b[33m========================================\u001b[39m\u001b[33m\"\u001b[39m)\n\u001b[32m----> \u001b[39m\u001b[32m4\u001b[39m \u001b[38;5;28mprint\u001b[39m(\u001b[43mda\u001b[49m\u001b[43m[\u001b[49m\u001b[43m:\u001b[49m\u001b[43m,\u001b[49m\u001b[32;43m0\u001b[39;49m\u001b[43m]\u001b[49m)\n\u001b[32m      5\u001b[39m \u001b[38;5;28mprint\u001b[39m(\u001b[33m\"\u001b[39m\u001b[33m========================================\u001b[39m\u001b[33m\"\u001b[39m)\n",
      "\u001b[31mIndexError\u001b[39m: too many indices for array: array is 1-dimensional, but 2 were indexed"
     ]
    }
   ],
   "source": [
    "print(data)"
   ]
  }
 ],
 "metadata": {
  "kernelspec": {
   "display_name": ".Env",
   "language": "python",
   "name": "python3"
  },
  "language_info": {
   "codemirror_mode": {
    "name": "ipython",
    "version": 3
   },
   "file_extension": ".py",
   "mimetype": "text/x-python",
   "name": "python",
   "nbconvert_exporter": "python",
   "pygments_lexer": "ipython3",
   "version": "3.13.3"
  }
 },
 "nbformat": 4,
 "nbformat_minor": 5
}
