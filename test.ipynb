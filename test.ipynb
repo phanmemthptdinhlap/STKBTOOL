{
 "cells": [
  {
   "cell_type": "code",
   "execution_count": null,
   "id": "360dfc8d",
   "metadata": {},
   "outputs": [
    {
     "name": "stdout",
     "output_type": "stream",
     "text": [
      "dsads\n"
     ]
    }
   ],
   "source": [
    "import pandas as pd\n",
    "import numpy as np\n",
    "import os"
   ]
  },
  {
   "cell_type": "code",
   "execution_count": null,
   "id": "9bc8a996",
   "metadata": {},
   "outputs": [],
   "source": [
    "path=\"./data/\"\n",
    "list_files = os.listdir(path)\n",
    "list_files = [f for f in list_files if f.endswith('.xls')]\n",
    "print(list_files)"
   ]
  },
  {
   "cell_type": "code",
   "execution_count": null,
   "id": "d6e77c8c",
   "metadata": {},
   "outputs": [],
   "source": [
    "\"\"\" import RData\n",
    "# Đọc file đầu tiên trong danh sách\n",
    "file_to_read = list_files[0]\n",
    "print(f\"Đang đọc file: {file_to_read}\")\n",
    "# Đọc sheet 'TKBLop2b' từ C8 đến U68\n",
    "file_path = os.path.join(path, file_to_read)\n",
    "rtkb= RData.RTKB()\n",
    "data = rtkb.read(file_path)\n",
    "print(data)\n",
    "print(rtkb.get_gvs())\n",
    "print(rtkb.get_mons())\n",
    "print(rtkb.get_lops()) \"\"\""
   ]
  },
  {
   "cell_type": "code",
   "execution_count": null,
   "id": "71d86008",
   "metadata": {},
   "outputs": [],
   "source": [
    "import RData\n",
    "rtkb = RData.RTKB()\n",
    "file_path = os.path.join(path, list_files[0])\n",
    "data = rtkb.read(file_path)\n",
    "    "
   ]
  }
 ],
 "metadata": {
  "kernelspec": {
   "display_name": ".env",
   "language": "python",
   "name": "python3"
  },
  "language_info": {
   "codemirror_mode": {
    "name": "ipython",
    "version": 3
   },
   "file_extension": ".py",
   "mimetype": "text/x-python",
   "name": "python",
   "nbconvert_exporter": "python",
   "pygments_lexer": "ipython3",
   "version": "3.13.3"
  }
 },
 "nbformat": 4,
 "nbformat_minor": 5
}
